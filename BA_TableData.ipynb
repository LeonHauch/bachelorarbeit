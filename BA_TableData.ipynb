{
  "cells": [
    {
      "cell_type": "markdown",
      "metadata": {
        "id": "view-in-github",
        "colab_type": "text"
      },
      "source": [
        "<a href=\"https://colab.research.google.com/github/LeonHauch/bachelorarbeit/blob/main/BA_TableData.ipynb\" target=\"_parent\"><img src=\"https://colab.research.google.com/assets/colab-badge.svg\" alt=\"Open In Colab\"/></a>"
      ]
    },
    {
      "cell_type": "code",
      "execution_count": null,
      "metadata": {
        "colab": {
          "base_uri": "https://localhost:8080/",
          "height": 74
        },
        "id": "hTiVflJx-8Ra",
        "outputId": "6259a023-1b6d-4304-d04e-6b367587dd6e"
      },
      "outputs": [
        {
          "output_type": "display_data",
          "data": {
            "text/plain": [
              "<IPython.core.display.HTML object>"
            ],
            "text/html": [
              "\n",
              "     <input type=\"file\" id=\"files-c8fff35a-2ddc-4844-94ae-69c61e6ffac7\" name=\"files[]\" multiple disabled\n",
              "        style=\"border:none\" />\n",
              "     <output id=\"result-c8fff35a-2ddc-4844-94ae-69c61e6ffac7\">\n",
              "      Upload widget is only available when the cell has been executed in the\n",
              "      current browser session. Please rerun this cell to enable.\n",
              "      </output>\n",
              "      <script>// Copyright 2017 Google LLC\n",
              "//\n",
              "// Licensed under the Apache License, Version 2.0 (the \"License\");\n",
              "// you may not use this file except in compliance with the License.\n",
              "// You may obtain a copy of the License at\n",
              "//\n",
              "//      http://www.apache.org/licenses/LICENSE-2.0\n",
              "//\n",
              "// Unless required by applicable law or agreed to in writing, software\n",
              "// distributed under the License is distributed on an \"AS IS\" BASIS,\n",
              "// WITHOUT WARRANTIES OR CONDITIONS OF ANY KIND, either express or implied.\n",
              "// See the License for the specific language governing permissions and\n",
              "// limitations under the License.\n",
              "\n",
              "/**\n",
              " * @fileoverview Helpers for google.colab Python module.\n",
              " */\n",
              "(function(scope) {\n",
              "function span(text, styleAttributes = {}) {\n",
              "  const element = document.createElement('span');\n",
              "  element.textContent = text;\n",
              "  for (const key of Object.keys(styleAttributes)) {\n",
              "    element.style[key] = styleAttributes[key];\n",
              "  }\n",
              "  return element;\n",
              "}\n",
              "\n",
              "// Max number of bytes which will be uploaded at a time.\n",
              "const MAX_PAYLOAD_SIZE = 100 * 1024;\n",
              "\n",
              "function _uploadFiles(inputId, outputId) {\n",
              "  const steps = uploadFilesStep(inputId, outputId);\n",
              "  const outputElement = document.getElementById(outputId);\n",
              "  // Cache steps on the outputElement to make it available for the next call\n",
              "  // to uploadFilesContinue from Python.\n",
              "  outputElement.steps = steps;\n",
              "\n",
              "  return _uploadFilesContinue(outputId);\n",
              "}\n",
              "\n",
              "// This is roughly an async generator (not supported in the browser yet),\n",
              "// where there are multiple asynchronous steps and the Python side is going\n",
              "// to poll for completion of each step.\n",
              "// This uses a Promise to block the python side on completion of each step,\n",
              "// then passes the result of the previous step as the input to the next step.\n",
              "function _uploadFilesContinue(outputId) {\n",
              "  const outputElement = document.getElementById(outputId);\n",
              "  const steps = outputElement.steps;\n",
              "\n",
              "  const next = steps.next(outputElement.lastPromiseValue);\n",
              "  return Promise.resolve(next.value.promise).then((value) => {\n",
              "    // Cache the last promise value to make it available to the next\n",
              "    // step of the generator.\n",
              "    outputElement.lastPromiseValue = value;\n",
              "    return next.value.response;\n",
              "  });\n",
              "}\n",
              "\n",
              "/**\n",
              " * Generator function which is called between each async step of the upload\n",
              " * process.\n",
              " * @param {string} inputId Element ID of the input file picker element.\n",
              " * @param {string} outputId Element ID of the output display.\n",
              " * @return {!Iterable<!Object>} Iterable of next steps.\n",
              " */\n",
              "function* uploadFilesStep(inputId, outputId) {\n",
              "  const inputElement = document.getElementById(inputId);\n",
              "  inputElement.disabled = false;\n",
              "\n",
              "  const outputElement = document.getElementById(outputId);\n",
              "  outputElement.innerHTML = '';\n",
              "\n",
              "  const pickedPromise = new Promise((resolve) => {\n",
              "    inputElement.addEventListener('change', (e) => {\n",
              "      resolve(e.target.files);\n",
              "    });\n",
              "  });\n",
              "\n",
              "  const cancel = document.createElement('button');\n",
              "  inputElement.parentElement.appendChild(cancel);\n",
              "  cancel.textContent = 'Cancel upload';\n",
              "  const cancelPromise = new Promise((resolve) => {\n",
              "    cancel.onclick = () => {\n",
              "      resolve(null);\n",
              "    };\n",
              "  });\n",
              "\n",
              "  // Wait for the user to pick the files.\n",
              "  const files = yield {\n",
              "    promise: Promise.race([pickedPromise, cancelPromise]),\n",
              "    response: {\n",
              "      action: 'starting',\n",
              "    }\n",
              "  };\n",
              "\n",
              "  cancel.remove();\n",
              "\n",
              "  // Disable the input element since further picks are not allowed.\n",
              "  inputElement.disabled = true;\n",
              "\n",
              "  if (!files) {\n",
              "    return {\n",
              "      response: {\n",
              "        action: 'complete',\n",
              "      }\n",
              "    };\n",
              "  }\n",
              "\n",
              "  for (const file of files) {\n",
              "    const li = document.createElement('li');\n",
              "    li.append(span(file.name, {fontWeight: 'bold'}));\n",
              "    li.append(span(\n",
              "        `(${file.type || 'n/a'}) - ${file.size} bytes, ` +\n",
              "        `last modified: ${\n",
              "            file.lastModifiedDate ? file.lastModifiedDate.toLocaleDateString() :\n",
              "                                    'n/a'} - `));\n",
              "    const percent = span('0% done');\n",
              "    li.appendChild(percent);\n",
              "\n",
              "    outputElement.appendChild(li);\n",
              "\n",
              "    const fileDataPromise = new Promise((resolve) => {\n",
              "      const reader = new FileReader();\n",
              "      reader.onload = (e) => {\n",
              "        resolve(e.target.result);\n",
              "      };\n",
              "      reader.readAsArrayBuffer(file);\n",
              "    });\n",
              "    // Wait for the data to be ready.\n",
              "    let fileData = yield {\n",
              "      promise: fileDataPromise,\n",
              "      response: {\n",
              "        action: 'continue',\n",
              "      }\n",
              "    };\n",
              "\n",
              "    // Use a chunked sending to avoid message size limits. See b/62115660.\n",
              "    let position = 0;\n",
              "    do {\n",
              "      const length = Math.min(fileData.byteLength - position, MAX_PAYLOAD_SIZE);\n",
              "      const chunk = new Uint8Array(fileData, position, length);\n",
              "      position += length;\n",
              "\n",
              "      const base64 = btoa(String.fromCharCode.apply(null, chunk));\n",
              "      yield {\n",
              "        response: {\n",
              "          action: 'append',\n",
              "          file: file.name,\n",
              "          data: base64,\n",
              "        },\n",
              "      };\n",
              "\n",
              "      let percentDone = fileData.byteLength === 0 ?\n",
              "          100 :\n",
              "          Math.round((position / fileData.byteLength) * 100);\n",
              "      percent.textContent = `${percentDone}% done`;\n",
              "\n",
              "    } while (position < fileData.byteLength);\n",
              "  }\n",
              "\n",
              "  // All done.\n",
              "  yield {\n",
              "    response: {\n",
              "      action: 'complete',\n",
              "    }\n",
              "  };\n",
              "}\n",
              "\n",
              "scope.google = scope.google || {};\n",
              "scope.google.colab = scope.google.colab || {};\n",
              "scope.google.colab._files = {\n",
              "  _uploadFiles,\n",
              "  _uploadFilesContinue,\n",
              "};\n",
              "})(self);\n",
              "</script> "
            ]
          },
          "metadata": {}
        },
        {
          "output_type": "stream",
          "name": "stdout",
          "text": [
            "Saving Bank Customer Churn Prediction.csv to Bank Customer Churn Prediction.csv\n"
          ]
        }
      ],
      "source": [
        "from google.colab import files\n",
        "\n",
        "\n",
        "uploaded = files.upload()"
      ]
    },
    {
      "cell_type": "code",
      "execution_count": null,
      "metadata": {
        "id": "-VkGVDNNehrv"
      },
      "outputs": [],
      "source": [
        "# Import der libraries\n",
        "import pandas as pd\n",
        "import numpy as np\n",
        "import seaborn as sns\n",
        "import matplotlib.pyplot as plt\n",
        "from sklearn.preprocessing import LabelEncoder, StandardScaler\n"
      ]
    },
    {
      "cell_type": "code",
      "execution_count": null,
      "metadata": {
        "id": "Q7cMVwioel6l"
      },
      "outputs": [],
      "source": [
        "# Laden des Datensatzes\n",
        "\n",
        "churn_data = pd.read_csv('Bank Customer Churn Prediction.csv')\n"
      ]
    },
    {
      "cell_type": "code",
      "execution_count": null,
      "metadata": {
        "id": "5QTCUIwNemAv"
      },
      "outputs": [],
      "source": [
        "#Info\n",
        "print(churn_data.info())\n"
      ]
    },
    {
      "cell_type": "code",
      "execution_count": null,
      "metadata": {
        "id": "m_CWfat9emEv"
      },
      "outputs": [],
      "source": [
        "print(churn_data.describe())\n"
      ]
    },
    {
      "cell_type": "code",
      "execution_count": null,
      "metadata": {
        "id": "gTrixK8qfazi"
      },
      "outputs": [],
      "source": [
        "print(churn_data.isnull().sum())\n",
        "#keine fehlenden Werte vorhanden"
      ]
    },
    {
      "cell_type": "code",
      "execution_count": null,
      "metadata": {
        "id": "ULz-Cs1sffVS"
      },
      "outputs": [],
      "source": [
        "# Scatter Plot Age vs Balance\n",
        "plt.figure(figsize=(10, 5))\n",
        "sns.scatterplot(data=churn_data, x='age', y='balance', hue='churn', palette=\"viridis\")\n",
        "plt.xlabel('Age', fontsize=12)\n",
        "plt.ylabel('Balance', fontsize=12)\n",
        "plt.title('Scatter plot of Age vs. Balance colored by Churn')\n",
        "plt.show()\n"
      ]
    },
    {
      "cell_type": "code",
      "execution_count": null,
      "metadata": {
        "id": "hmlLh1nFffYq"
      },
      "outputs": [],
      "source": [
        "# Boxplot, nicht in Arbeit aufgenommen\n",
        "sns.boxplot(data=churn_data, x='credit_card', y='balance', hue='churn', palette=\"viridis\")\n"
      ]
    },
    {
      "cell_type": "code",
      "execution_count": null,
      "metadata": {
        "id": "ag-52Z0Wffbg"
      },
      "outputs": [],
      "source": [
        "# Korrelationsmatrix\n",
        "corr_matrix = churn_data.corr()\n",
        "plt.figure(figsize=(12, 8))\n",
        "sns.heatmap(corr_matrix, annot=True, cmap='coolwarm')\n",
        "plt.title('Feature Correlation')\n",
        "plt.show()\n"
      ]
    },
    {
      "cell_type": "code",
      "execution_count": null,
      "metadata": {
        "id": "dbo_vzQhffex"
      },
      "outputs": [],
      "source": [
        "#Prprocessing: Entfernen der Customer ID und Encoding der katgorischen Variablen\n",
        "# Drop 'customer_id'\n",
        "churn_data.drop('customer_id', axis=1, inplace=True)\n",
        "\n",
        "# Encode categorical variables\n",
        "label_encoders = {}\n",
        "for column in ['country', 'gender']:\n",
        "    le = LabelEncoder()\n",
        "    churn_data[column] = le.fit_transform(churn_data[column])\n",
        "    label_encoders[column] = le\n"
      ]
    },
    {
      "cell_type": "code",
      "execution_count": null,
      "metadata": {
        "id": "rR_j_NvPksn1"
      },
      "outputs": [],
      "source": [
        "#Scaling\n",
        "scaler = StandardScaler()\n",
        "scaled_data = churn_data.copy()\n",
        "scaled_data[scaled_data.columns] = scaler.fit_transform(scaled_data)"
      ]
    },
    {
      "cell_type": "code",
      "execution_count": null,
      "metadata": {
        "id": "OoSjVDQIlECs"
      },
      "outputs": [],
      "source": [
        "#Auswahl der Classifier\n",
        "from sklearn.model_selection import train_test_split\n",
        "from sklearn.linear_model import LogisticRegression\n",
        "from sklearn.ensemble import RandomForestClassifier, GradientBoostingClassifier\n",
        "from sklearn.svm import SVC\n",
        "from sklearn.metrics import classification_report, roc_auc_score\n"
      ]
    },
    {
      "cell_type": "code",
      "execution_count": null,
      "metadata": {
        "id": "cqCndlE9lKty"
      },
      "outputs": [],
      "source": [
        "# Split data into features and target\n",
        "X = scaled_data.drop('churn', axis=1)\n",
        "y = churn_data['churn']\n",
        "\n",
        "# Split data into training and testing sets\n",
        "X_train, X_test, y_train, y_test = train_test_split(X, y, test_size=0.2, random_state=42)\n"
      ]
    },
    {
      "cell_type": "code",
      "execution_count": null,
      "metadata": {
        "id": "QjHyikEZlgHK"
      },
      "outputs": [],
      "source": [
        "from sklearn.metrics import accuracy_score\n",
        "# Initialize the classifiers\n",
        "logreg = LogisticRegression(max_iter=1000, random_state=42)\n",
        "rf = RandomForestClassifier(random_state=42)\n",
        "gb = GradientBoostingClassifier(random_state=42)\n",
        "svc_rbf = SVC(kernel='rbf', random_state=42, probability=True)  # SVC with RBF kernel\n",
        "\n",
        "# List of classifiers and their names\n",
        "classifiers = [logreg, rf, gb, svc_rbf]\n",
        "classifier_names = [\"Logistic Regression\", \"Random Forest\", \"Gradient Boosting\", \"SVC (RBF)\"]\n",
        "\n",
        "# Dictionary to store evaluation metrics for each classifier\n",
        "evaluation_metrics = {}\n",
        "\n",
        "for clf, clf_name in zip(classifiers, classifier_names):\n",
        "    # Train the classifier\n",
        "    clf.fit(X_train, y_train)\n",
        "\n",
        "    # Predictions for the current classifier\n",
        "    y_preds = clf.predict(X_test)\n",
        "\n",
        "    # Compute classification report (precision, recall, f1-score)\n",
        "    clf_report = classification_report(y_test, y_preds, output_dict=True)\n",
        "\n",
        "    # Compute AUC-ROC\n",
        "    if clf_name == \"SVC (RBF)\":\n",
        "        y_scores = clf.decision_function(X_test)\n",
        "    else:\n",
        "        y_scores = clf.predict_proba(X_test)[:, 1]\n",
        "    auc_roc = roc_auc_score(y_test, y_scores)\n",
        "\n",
        "    # Compute accuracy\n",
        "    accuracy = accuracy_score(y_test, y_preds)\n",
        "\n",
        "    # Store the metrics including accuracy\n",
        "    evaluation_metrics[clf_name] = {\n",
        "        'Accuracy': accuracy,\n",
        "        'Precision': clf_report['1']['precision'],\n",
        "        'Recall': clf_report['1']['recall'],\n",
        "        'F1-score': clf_report['1']['f1-score'],\n",
        "        'AUC-ROC': auc_roc\n",
        "    }\n"
      ]
    },
    {
      "cell_type": "code",
      "execution_count": null,
      "metadata": {
        "id": "OaqVHKIolp7n"
      },
      "outputs": [],
      "source": [
        "evaluation_metrics_df = pd.DataFrame(evaluation_metrics).transpose()\n",
        "print(evaluation_metrics_df)\n",
        "\n"
      ]
    },
    {
      "cell_type": "code",
      "execution_count": null,
      "metadata": {
        "id": "UDpq7vK7rEw0"
      },
      "outputs": [],
      "source": [
        "# Predict labels for the test set using the gb model\n",
        "predicted_labels = gb.predict(X_test)\n",
        "\n",
        "# Count the number of instances predicted as '1'\n",
        "count_predicted_1 = sum(predicted_labels == 1)\n",
        "\n",
        "print(f\"Number of instances predicted as '1' by Gradient Boosting: {count_predicted_1}\")\n"
      ]
    },
    {
      "cell_type": "code",
      "execution_count": null,
      "metadata": {
        "id": "1-ia_ie_o6x_"
      },
      "outputs": [],
      "source": [
        "!pip install shap lime"
      ]
    },
    {
      "cell_type": "code",
      "execution_count": null,
      "metadata": {
        "id": "6cNtXixD-SEJ"
      },
      "outputs": [],
      "source": [
        "# Select 5 samples from each class\n",
        "samples_churned = X_test[y_test == 1].sample(5)\n",
        "samples_not_churned = X_test[y_test == 0].sample(5)"
      ]
    },
    {
      "cell_type": "code",
      "execution_count": null,
      "metadata": {
        "id": "cor7Zsl2tFsy"
      },
      "outputs": [],
      "source": [
        "# LIME und KernelSHAP\n",
        "import shap\n",
        "import time\n",
        "from lime.lime_tabular import LimeTabularExplainer\n",
        "\n",
        "# 1. Initialize LIME explainer\n",
        "lime_explainer = LimeTabularExplainer(X_train.values,\n",
        "                                      feature_names=X_train.columns,\n",
        "                                      class_names=['Not Churned', 'Churned'],\n",
        "                                      mode='classification')\n",
        "\n",
        "# 2. Define the prediction function for the GB model\n",
        "def predict_fn(data):\n",
        "    return gb.predict_proba(data)\n",
        "\n",
        "# 3. Initialize SHAP KernelExplainer\n",
        "background_data = X_train.sample(100, random_state=42)  # KernelExplainer requires background data\n",
        "shap_explainer = shap.KernelExplainer(predict_fn, background_data)\n",
        "\n",
        "# LIME explanations\n",
        "shap.initjs()\n",
        "for index, instance in sample_instances.iterrows():\n",
        "    actual_label = y_test.loc[index]\n",
        "    predicted_label = gb.predict(instance.values.reshape(1, -1))[0]\n",
        "    print(f\"Sample instance: {index}\")\n",
        "    print(f\"Actual label: {actual_label}, Predicted by GB: {predicted_label}\")\n",
        "\n",
        "    # LIME explanation\n",
        "    lime_exp = lime_explainer.explain_instance(instance.values, gb.predict_proba)\n",
        "    lime_exp.show_in_notebook()\n",
        "\n",
        "# SHAP explanations with KernelExplainer\n",
        "shap.initjs()\n",
        "for index, instance in sample_instances.iterrows():\n",
        "    # Compute SHAP values for the instance\n",
        "    shap_values_instance = shap_explainer.shap_values(instance.values.reshape(1, -1), nsamples=100)\n",
        "\n",
        "    # Predict the label using the Gradient Boosting model\n",
        "    predicted_label = gb.predict(instance.values.reshape(1, -1))[0]\n",
        "    actual_label = y_test.loc[index]\n",
        "\n",
        "    # Display actual and predicted labels\n",
        "    print(f\"Instance {index}: Actual Label = {actual_label}, Predicted Label = {predicted_label}\")\n",
        "\n",
        "    # Display the force plot for the instance\n",
        "    display(shap.force_plot(shap_explainer.expected_value[0], shap_values_instance[0], instance))\n"
      ]
    },
    {
      "cell_type": "code",
      "execution_count": null,
      "metadata": {
        "id": "c5gFgMNttG9Q"
      },
      "outputs": [],
      "source": [
        "# For SHAP explanations\n",
        "shap.initjs()\n",
        "\n",
        "for index, instance in sample_instances.iterrows():\n",
        "    actual_label = y_test.loc[index]\n",
        "    predicted_label = gb.predict(instance.values.reshape(1, -1))[0]\n",
        "\n",
        "    print(f\"Sample instance: {index}\")\n",
        "    print(f\"Actual label: {actual_label}, Predicted by GB: {predicted_label}\")\n",
        "\n",
        "    # Retrieve original feature values\n",
        "    original_instance = churn_data.loc[index]\n",
        "\n",
        "    # Compute SHAP values for the instance\n",
        "    shap_values_instance = shap_explainer.shap_values(instance.values.reshape(1, -1))\n",
        "\n",
        "    # Display SHAP values alongside original feature values\n",
        "    for feature_name, shap_value in zip(X_train.columns, shap_values_instance[0]):\n",
        "        actual_value = original_instance[feature_name]\n",
        "        print(f\"{feature_name} (Original value: {actual_value}): SHAP Value: {shap_value}\")\n",
        "\n",
        "    # Display the force plot\n",
        "    display(shap.force_plot(shap_explainer.expected_value[0], shap_values_instance[0], instance))\n"
      ]
    },
    {
      "cell_type": "code",
      "source": [
        "# 10 Instanzen true postitive\n",
        "# Get indices where both actual and predicted labels are 'Churned'\n",
        "positive_indices = y_test[(y_test == 1) & (gb.predict(X_test) == 1)].index\n",
        "\n",
        "# Randomly select 10 of these indices\n",
        "selected_indices = np.random.choice(positive_indices, 10, replace=False)"
      ],
      "metadata": {
        "id": "XKX3pFVGzrJL"
      },
      "execution_count": null,
      "outputs": []
    },
    {
      "cell_type": "code",
      "source": [
        "#SHAP RP\n",
        "import pandas as pd\n",
        "import numpy as np\n",
        "\n",
        "\n",
        "# List to store the results\n",
        "shap_top_features_list = []\n",
        "\n",
        "# Compute SHAP values for each selected instance\n",
        "for index in selected_indices:\n",
        "    instance = X_test.loc[index]\n",
        "\n",
        "    # Compute SHAP values for the instance\n",
        "    shap_values_instance = shap_explainer.shap_values(instance.values.reshape(1, -1))\n",
        "    shap_values_positive_class = shap_values_instance[1][0]\n",
        "\n",
        "    # Extracting top 5 influential feature names from SHAP based on absolute values, in descending order of their influence\n",
        "    shap_top_values = np.argsort(np.abs(shap_values_positive_class))[-5:][::-1]\n",
        "    shap_top_feature_names = [X_train.columns[i] for i in shap_top_values]\n",
        "    shap_top_features_list.append(shap_top_feature_names)\n",
        "\n",
        "\n",
        "\n",
        "# Convert results to DataFrame for display\n",
        "shap_df = pd.DataFrame(shap_top_features_list, columns=['Feature1', 'Feature2', 'Feature3', 'Feature4', 'Feature5'], index=selected_indices)\n",
        "\n",
        "# Display the results\n",
        "display(shap_df)\n"
      ],
      "metadata": {
        "id": "jyeYl9iKxfR_"
      },
      "execution_count": null,
      "outputs": []
    },
    {
      "cell_type": "code",
      "source": [
        "#LIME RP\n",
        "import pandas as pd\n",
        "import numpy as np\n",
        "import re  # Import the regular expressions module\n",
        "\n",
        "# List to store the results\n",
        "lime_top_features_list = []\n",
        "\n",
        "# Compute LIME explanations for each selected instance\n",
        "for index in selected_indices:\n",
        "    instance = X_test.loc[index]\n",
        "\n",
        "    # LIME explanation\n",
        "    lime_exp = lime_explainer.explain_instance(instance.values, gb.predict_proba)\n",
        "\n",
        "    # Extracting top 5 influential features from LIME based on absolute values, in descending order of their influence\n",
        "    lime_sorted_features = sorted(lime_exp.as_list(), key=lambda x: abs(x[1]), reverse=True)[:5]\n",
        "\n",
        "    # Remove numbers and the characters <, >, and = from the LIME output using regular expressions\n",
        "    lime_top_feature_names = [re.sub(r'[0-9<>=\\-.]', '', feat[0]).strip() for feat in lime_sorted_features]\n",
        "    lime_top_features_list.append(lime_top_feature_names)\n",
        "\n",
        "# Convert results to DataFrame for display\n",
        "lime_df = pd.DataFrame(lime_top_features_list, columns=['Feature1', 'Feature2', 'Feature3', 'Feature4', 'Feature5'], index=selected_indices)\n",
        "\n",
        "# Display the LIME results\n",
        "display(lime_df)\n"
      ],
      "metadata": {
        "id": "skFqlgaWyVDZ"
      },
      "execution_count": null,
      "outputs": []
    },
    {
      "cell_type": "code",
      "source": [
        "# Display the feature values for the selected instances from the original dataframe\n",
        "feature_values_df = churn_data.loc[selected_indices]\n",
        "display(feature_values_df)\n"
      ],
      "metadata": {
        "id": "4pm6OLCq1Eaa"
      },
      "execution_count": null,
      "outputs": []
    },
    {
      "cell_type": "code",
      "source": [
        "# Zeitmessung\n",
        "import time\n",
        "import pandas as pd\n",
        "from sklearn.svm import SVC\n",
        "\n",
        "# Assume you've already split your data into training and testing sets: X_train, X_test, y_train, y_test\n",
        "\n",
        "# Train the SVC classifier\n",
        "svc = SVC(probability=True)  # Ensure probability=True to use predict_proba\n",
        "svc.fit(X_train, y_train)\n",
        "\n",
        "# Randomly select 10 instances\n",
        "random_indices = np.random.choice(X_test.index, 10, replace=False)\n",
        "\n",
        "# Initialize LIME and SHAP explainers (similar to what you've done above)\n",
        "lime_explainer = LimeTabularExplainer(X_train.values,\n",
        "                                      feature_names=X_train.columns,\n",
        "                                      class_names=['Not Churned', 'Churned'],\n",
        "                                      mode='classification')\n",
        "background_data = X_train.sample(20, random_state=42)\n",
        "shap_explainer = shap.KernelExplainer(svc.predict_proba, background_data)\n",
        "\n",
        "# Lists to store execution times\n",
        "lime_times = []\n",
        "shap_times = []\n",
        "\n",
        "# Compute LIME and SHAP explanations for each instance and store execution times\n",
        "for index in random_indices:\n",
        "    instance = X_test.loc[index]\n",
        "\n",
        "    # LIME explanation and timing\n",
        "    start_time = time.time()\n",
        "    lime_exp = lime_explainer.explain_instance(instance.values, svc.predict_proba, num_features=15)\n",
        "    lime_times.append(time.time() - start_time)\n",
        "\n",
        "    # SHAP explanation and timing\n",
        "    start_time = time.time()\n",
        "    shap_values_instance = shap_explainer.shap_values(instance.values.reshape(1, -1))\n",
        "    shap_times.append(time.time() - start_time)\n",
        "\n",
        "# Sum the execution times across all instances\n",
        "total_lime_time = sum(lime_times)\n",
        "total_shap_time = sum(shap_times)\n",
        "\n",
        "# Create a DataFrame to display results\n",
        "results_df = pd.DataFrame({\n",
        "    'XAI Methode': ['LIME', 'SHAP'],\n",
        "    'Ausführungszeit in Sekunden': [total_lime_time, total_shap_time]\n",
        "})\n",
        "\n",
        "display(results_df)\n"
      ],
      "metadata": {
        "id": "vogd28wU3kIi"
      },
      "execution_count": null,
      "outputs": []
    },
    {
      "cell_type": "code",
      "execution_count": null,
      "metadata": {
        "id": "QU1HKC3rLRZU"
      },
      "outputs": [],
      "source": [
        "# Erstellung des Plots, um Overfitting zu visualisieren; unabhänig von LIME und SHAP\n",
        "import numpy as np\n",
        "import matplotlib.pyplot as plt\n",
        "from sklearn.preprocessing import PolynomialFeatures\n",
        "from sklearn.linear_model import LinearRegression\n",
        "from sklearn.pipeline import make_pipeline\n",
        "\n",
        "# Generate synthetic data\n",
        "np.random.seed(0)\n",
        "X = np.sort(5 * np.random.rand(80, 1), axis=0)\n",
        "y = np.sin(X).ravel() + np.random.normal(0, 0.1, X.shape[0])\n",
        "\n",
        "# Split into training and test sets\n",
        "X_train, X_test = X[:60], X[60:]\n",
        "y_train, y_test = y[:60], y[60:]\n",
        "\n",
        "# Well-fitted model (using the correct polynomial degree of 2)\n",
        "degree = 4\n",
        "model1 = make_pipeline(PolynomialFeatures(degree), LinearRegression())\n",
        "model1.fit(X_train, y_train)\n",
        "y_pred1 = model1.predict(X_test)\n",
        "\n",
        "# Overfitted model (using a high polynomial degree of 15)\n",
        "degree = 6\n",
        "model2 = make_pipeline(PolynomialFeatures(degree), LinearRegression())\n",
        "model2.fit(X_train, y_train)\n",
        "y_pred2 = model2.predict(X_test)\n",
        "\n",
        "# Visualization\n",
        "X_plot = np.linspace(0, 5, 100).reshape(-1, 1)\n",
        "\n",
        "plt.figure(figsize=(12, 5))\n",
        "\n",
        "# Model ohne Overfitting\n",
        "plt.subplot(1, 2, 1)\n",
        "plt.scatter(X_train, y_train, color='blue', s=20, marker='o', label=\"training points\")\n",
        "plt.scatter(X_test, y_test, color='red', s=20, marker='x', label=\"test points\")\n",
        "plt.plot(X_plot, model1.predict(X_plot), color='green', linewidth=2, label=\"degree %d\" % 2)\n",
        "plt.title(\"Model ohne Overfitting\")\n",
        "plt.legend(loc='lower left')\n",
        "\n",
        "# Model mit Overfitting\n",
        "plt.subplot(1, 2, 2)\n",
        "plt.scatter(X_train, y_train, color='blue', s=20, marker='o', label=\"training points\")\n",
        "plt.scatter(X_test, y_test, color='red', s=20, marker='x', label=\"test points\")\n",
        "plt.plot(X_plot, model2.predict(X_plot), color='green', linewidth=2, label=\"degree %d\" % 15)\n",
        "plt.title(\"Model mit Overfitting\")\n",
        "plt.legend(loc='lower left')\n",
        "\n",
        "plt.tight_layout()\n",
        "plt.show()\n"
      ]
    }
  ],
  "metadata": {
    "accelerator": "GPU",
    "colab": {
      "machine_shape": "hm",
      "provenance": [],
      "authorship_tag": "ABX9TyNED6leJnZf5Ocpd1QoMn5a",
      "include_colab_link": true
    },
    "kernelspec": {
      "display_name": "Python 3",
      "name": "python3"
    },
    "language_info": {
      "name": "python"
    }
  },
  "nbformat": 4,
  "nbformat_minor": 0
}