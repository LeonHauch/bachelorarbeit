{
  "cells": [
    {
      "cell_type": "markdown",
      "metadata": {
        "id": "view-in-github",
        "colab_type": "text"
      },
      "source": [
        "<a href=\"https://colab.research.google.com/github/LeonHauch/bachelorarbeit/blob/main/BA_TextData.ipynb\" target=\"_parent\"><img src=\"https://colab.research.google.com/assets/colab-badge.svg\" alt=\"Open In Colab\"/></a>"
      ]
    },
    {
      "cell_type": "code",
      "execution_count": null,
      "metadata": {
        "colab": {
          "base_uri": "https://localhost:8080/",
          "height": 74
        },
        "id": "R0VOyIN7_S16",
        "outputId": "35fb3316-9801-4eb3-e4a8-b1a9ca8dd88f"
      },
      "outputs": [
        {
          "output_type": "display_data",
          "data": {
            "text/plain": [
              "<IPython.core.display.HTML object>"
            ],
            "text/html": [
              "\n",
              "     <input type=\"file\" id=\"files-0006da61-6eab-40ed-becf-698bef12d1ef\" name=\"files[]\" multiple disabled\n",
              "        style=\"border:none\" />\n",
              "     <output id=\"result-0006da61-6eab-40ed-becf-698bef12d1ef\">\n",
              "      Upload widget is only available when the cell has been executed in the\n",
              "      current browser session. Please rerun this cell to enable.\n",
              "      </output>\n",
              "      <script>// Copyright 2017 Google LLC\n",
              "//\n",
              "// Licensed under the Apache License, Version 2.0 (the \"License\");\n",
              "// you may not use this file except in compliance with the License.\n",
              "// You may obtain a copy of the License at\n",
              "//\n",
              "//      http://www.apache.org/licenses/LICENSE-2.0\n",
              "//\n",
              "// Unless required by applicable law or agreed to in writing, software\n",
              "// distributed under the License is distributed on an \"AS IS\" BASIS,\n",
              "// WITHOUT WARRANTIES OR CONDITIONS OF ANY KIND, either express or implied.\n",
              "// See the License for the specific language governing permissions and\n",
              "// limitations under the License.\n",
              "\n",
              "/**\n",
              " * @fileoverview Helpers for google.colab Python module.\n",
              " */\n",
              "(function(scope) {\n",
              "function span(text, styleAttributes = {}) {\n",
              "  const element = document.createElement('span');\n",
              "  element.textContent = text;\n",
              "  for (const key of Object.keys(styleAttributes)) {\n",
              "    element.style[key] = styleAttributes[key];\n",
              "  }\n",
              "  return element;\n",
              "}\n",
              "\n",
              "// Max number of bytes which will be uploaded at a time.\n",
              "const MAX_PAYLOAD_SIZE = 100 * 1024;\n",
              "\n",
              "function _uploadFiles(inputId, outputId) {\n",
              "  const steps = uploadFilesStep(inputId, outputId);\n",
              "  const outputElement = document.getElementById(outputId);\n",
              "  // Cache steps on the outputElement to make it available for the next call\n",
              "  // to uploadFilesContinue from Python.\n",
              "  outputElement.steps = steps;\n",
              "\n",
              "  return _uploadFilesContinue(outputId);\n",
              "}\n",
              "\n",
              "// This is roughly an async generator (not supported in the browser yet),\n",
              "// where there are multiple asynchronous steps and the Python side is going\n",
              "// to poll for completion of each step.\n",
              "// This uses a Promise to block the python side on completion of each step,\n",
              "// then passes the result of the previous step as the input to the next step.\n",
              "function _uploadFilesContinue(outputId) {\n",
              "  const outputElement = document.getElementById(outputId);\n",
              "  const steps = outputElement.steps;\n",
              "\n",
              "  const next = steps.next(outputElement.lastPromiseValue);\n",
              "  return Promise.resolve(next.value.promise).then((value) => {\n",
              "    // Cache the last promise value to make it available to the next\n",
              "    // step of the generator.\n",
              "    outputElement.lastPromiseValue = value;\n",
              "    return next.value.response;\n",
              "  });\n",
              "}\n",
              "\n",
              "/**\n",
              " * Generator function which is called between each async step of the upload\n",
              " * process.\n",
              " * @param {string} inputId Element ID of the input file picker element.\n",
              " * @param {string} outputId Element ID of the output display.\n",
              " * @return {!Iterable<!Object>} Iterable of next steps.\n",
              " */\n",
              "function* uploadFilesStep(inputId, outputId) {\n",
              "  const inputElement = document.getElementById(inputId);\n",
              "  inputElement.disabled = false;\n",
              "\n",
              "  const outputElement = document.getElementById(outputId);\n",
              "  outputElement.innerHTML = '';\n",
              "\n",
              "  const pickedPromise = new Promise((resolve) => {\n",
              "    inputElement.addEventListener('change', (e) => {\n",
              "      resolve(e.target.files);\n",
              "    });\n",
              "  });\n",
              "\n",
              "  const cancel = document.createElement('button');\n",
              "  inputElement.parentElement.appendChild(cancel);\n",
              "  cancel.textContent = 'Cancel upload';\n",
              "  const cancelPromise = new Promise((resolve) => {\n",
              "    cancel.onclick = () => {\n",
              "      resolve(null);\n",
              "    };\n",
              "  });\n",
              "\n",
              "  // Wait for the user to pick the files.\n",
              "  const files = yield {\n",
              "    promise: Promise.race([pickedPromise, cancelPromise]),\n",
              "    response: {\n",
              "      action: 'starting',\n",
              "    }\n",
              "  };\n",
              "\n",
              "  cancel.remove();\n",
              "\n",
              "  // Disable the input element since further picks are not allowed.\n",
              "  inputElement.disabled = true;\n",
              "\n",
              "  if (!files) {\n",
              "    return {\n",
              "      response: {\n",
              "        action: 'complete',\n",
              "      }\n",
              "    };\n",
              "  }\n",
              "\n",
              "  for (const file of files) {\n",
              "    const li = document.createElement('li');\n",
              "    li.append(span(file.name, {fontWeight: 'bold'}));\n",
              "    li.append(span(\n",
              "        `(${file.type || 'n/a'}) - ${file.size} bytes, ` +\n",
              "        `last modified: ${\n",
              "            file.lastModifiedDate ? file.lastModifiedDate.toLocaleDateString() :\n",
              "                                    'n/a'} - `));\n",
              "    const percent = span('0% done');\n",
              "    li.appendChild(percent);\n",
              "\n",
              "    outputElement.appendChild(li);\n",
              "\n",
              "    const fileDataPromise = new Promise((resolve) => {\n",
              "      const reader = new FileReader();\n",
              "      reader.onload = (e) => {\n",
              "        resolve(e.target.result);\n",
              "      };\n",
              "      reader.readAsArrayBuffer(file);\n",
              "    });\n",
              "    // Wait for the data to be ready.\n",
              "    let fileData = yield {\n",
              "      promise: fileDataPromise,\n",
              "      response: {\n",
              "        action: 'continue',\n",
              "      }\n",
              "    };\n",
              "\n",
              "    // Use a chunked sending to avoid message size limits. See b/62115660.\n",
              "    let position = 0;\n",
              "    do {\n",
              "      const length = Math.min(fileData.byteLength - position, MAX_PAYLOAD_SIZE);\n",
              "      const chunk = new Uint8Array(fileData, position, length);\n",
              "      position += length;\n",
              "\n",
              "      const base64 = btoa(String.fromCharCode.apply(null, chunk));\n",
              "      yield {\n",
              "        response: {\n",
              "          action: 'append',\n",
              "          file: file.name,\n",
              "          data: base64,\n",
              "        },\n",
              "      };\n",
              "\n",
              "      let percentDone = fileData.byteLength === 0 ?\n",
              "          100 :\n",
              "          Math.round((position / fileData.byteLength) * 100);\n",
              "      percent.textContent = `${percentDone}% done`;\n",
              "\n",
              "    } while (position < fileData.byteLength);\n",
              "  }\n",
              "\n",
              "  // All done.\n",
              "  yield {\n",
              "    response: {\n",
              "      action: 'complete',\n",
              "    }\n",
              "  };\n",
              "}\n",
              "\n",
              "scope.google = scope.google || {};\n",
              "scope.google.colab = scope.google.colab || {};\n",
              "scope.google.colab._files = {\n",
              "  _uploadFiles,\n",
              "  _uploadFilesContinue,\n",
              "};\n",
              "})(self);\n",
              "</script> "
            ]
          },
          "metadata": {}
        },
        {
          "output_type": "stream",
          "name": "stdout",
          "text": [
            "Saving cyberbullying_tweets.csv to cyberbullying_tweets.csv\n"
          ]
        }
      ],
      "source": [
        "from google.colab import files\n",
        "\n",
        "\n",
        "uploaded = files.upload()\n"
      ]
    },
    {
      "cell_type": "code",
      "execution_count": null,
      "metadata": {
        "id": "0TlNlu6sHR1n"
      },
      "outputs": [],
      "source": [
        "import pandas as pd\n",
        "\n",
        "# Load the dataset\n",
        "df = pd.read_csv(\"cyberbullying_tweets.csv\")\n",
        "\n",
        "# General analysis\n",
        "head_data = df.head()\n",
        "info_data = df.info()\n",
        "label_distribution = df['cyberbullying_type'].value_counts(normalize=True)\n",
        "\n",
        "label_distribution\n"
      ]
    },
    {
      "cell_type": "code",
      "source": [
        "pip install pandas matplotlib seaborn\n"
      ],
      "metadata": {
        "id": "HA0EE8h6qIKd"
      },
      "execution_count": null,
      "outputs": []
    },
    {
      "cell_type": "code",
      "source": [
        "import pandas as pd\n",
        "import matplotlib.pyplot as plt\n",
        "import seaborn as sns\n",
        "\n",
        "# Diplikate entfernen\n",
        "data_cleaned = df.drop_duplicates()\n",
        "\n",
        "# Create a column for tweet length\n",
        "data_cleaned['tweet_length'] = data_cleaned['tweet_text'].apply(len)\n",
        "\n",
        "# class distribution\n",
        "class_distribution = data_cleaned['cyberbullying_type'].value_counts()\n",
        "class_distribution.plot(kind='bar', color=['skyblue', 'salmon'])\n",
        "plt.title('Distribution of Cyberbullying Classes')\n",
        "plt.xlabel('Cyberbullying Type')\n",
        "plt.ylabel('Number of Instances')\n",
        "plt.xticks(rotation=0)\n",
        "plt.show()\n",
        "\n",
        "# distribution of tweet lengths for each class\n",
        "plt.figure(figsize=(12, 8))\n",
        "for label in class_distribution.index:\n",
        "    subset = data_cleaned[data_cleaned['cyberbullying_type'] == label]\n",
        "    sns.kdeplot(subset['tweet_length'], label=label, shade=True)\n",
        "\n",
        "plt.title('Distribution of Tweet Lengths by Cyberbullying Type')\n",
        "plt.xlabel('Tweet Length')\n",
        "plt.ylabel('Density')\n",
        "plt.legend()\n",
        "plt.show()\n"
      ],
      "metadata": {
        "id": "e1ca2hzAqP3A"
      },
      "execution_count": null,
      "outputs": []
    },
    {
      "cell_type": "code",
      "source": [
        "# Preprocessing Steps\n",
        "\n",
        "# 1. Check for missing values\n",
        "missing_values = df.isnull().sum()\n",
        "\n",
        "# 2. Check for duplicate rows\n",
        "duplicates = df.duplicated().sum()\n",
        "\n",
        "missing_values, duplicates\n"
      ],
      "metadata": {
        "id": "tYHpV2jKfxrg"
      },
      "execution_count": null,
      "outputs": []
    },
    {
      "cell_type": "code",
      "execution_count": null,
      "metadata": {
        "id": "3AoQlwQbl7np"
      },
      "outputs": [],
      "source": [
        "import re\n",
        "import nltk\n",
        "from nltk.corpus import stopwords\n",
        "from nltk.stem import WordNetLemmatizer\n",
        "nltk.download('punkt')\n",
        "\n",
        "# Download required nltk data\n",
        "nltk.download('stopwords')\n",
        "nltk.download('wordnet')\n",
        "\n",
        "# Preprocessing function\n",
        "def preprocess_text(text):\n",
        "    # Convert to lowercase\n",
        "    text = text.lower()\n",
        "    # Remove punctuations, special characters, and digits\n",
        "    text = re.sub(r'[^\\w\\s]|[\\d]', '', text)\n",
        "    # Tokenization\n",
        "    tokens = nltk.word_tokenize(text)\n",
        "    # Remove stopwords\n",
        "    stopwords_list = set(stopwords.words('english'))\n",
        "    tokens = [token for token in tokens if token not in stopwords_list]\n",
        "    # Lemmatization\n",
        "    lemmatizer = WordNetLemmatizer()\n",
        "    tokens = [lemmatizer.lemmatize(token) for token in tokens]\n",
        "    return ' '.join(tokens)\n",
        "\n",
        "# Apply preprocessing to the 'tweet_text' column\n",
        "df['tweet_text'] = df['tweet_text'].apply(preprocess_text)\n",
        "\n",
        "# Display the first few preprocessed records\n",
        "df.head()\n"
      ]
    },
    {
      "cell_type": "code",
      "execution_count": null,
      "metadata": {
        "id": "w_6qChNQmt3C"
      },
      "outputs": [],
      "source": [
        "# Load the preprocessed dataset\n",
        "df_preprocessed = df.copy()\n",
        "\n",
        "# Remove NaN values\n",
        "df_preprocessed = df_preprocessed.dropna()\n",
        "\n",
        "# Check the first few rows and data info\n",
        "head_data = df_preprocessed.head()\n",
        "info_data = df_preprocessed.info()\n",
        "\n",
        "head_data, info_data\n"
      ]
    },
    {
      "cell_type": "code",
      "source": [
        "import pandas as pd\n",
        "from sklearn.feature_extraction.text import TfidfVectorizer, CountVectorizer\n",
        "from sklearn.model_selection import train_test_split\n",
        "from sklearn.svm import SVC\n",
        "from sklearn.ensemble import RandomForestClassifier\n",
        "from sklearn.neighbors import KNeighborsClassifier\n",
        "from sklearn.metrics import accuracy_score, f1_score\n",
        "\n",
        "\n",
        "# Vektorisierer vorbereiten\n",
        "tfidf_vectorizer = TfidfVectorizer()\n",
        "count_vectorizer = CountVectorizer()\n",
        "\n",
        "X_tfidf = tfidf_vectorizer.fit_transform(df_preprocessed['tweet_text'])\n",
        "X_count = count_vectorizer.fit_transform(df_preprocessed['tweet_text'])\n",
        "y = df_preprocessed['cyberbullying_type']\n",
        "\n",
        "# Modelle vorbereiten\n",
        "models = {\n",
        "    'SVC': SVC(),\n",
        "    'RandomForest': RandomForestClassifier(),\n",
        "    'kNN': KNeighborsClassifier()  # kNN hinzugefügt\n",
        "}\n",
        "\n",
        "results = []\n",
        "\n",
        "# Durch die Kombinationen von Vektorisierer und Modell iterieren\n",
        "for vectorizer_name, X in [('TF-IDF', X_tfidf), ('CountVectorizer', X_count)]:\n",
        "    X_train, X_test, y_train, y_test = train_test_split(X, y, test_size=0.2, random_state=42)\n",
        "\n",
        "    for model_name, model in models.items():\n",
        "        model.fit(X_train, y_train)\n",
        "        y_pred = model.predict(X_test)\n",
        "\n",
        "        accuracy = accuracy_score(y_test, y_pred)\n",
        "        f1 = f1_score(y_test, y_pred, average='weighted')\n",
        "\n",
        "        results.append({\n",
        "            'Vectorizer': vectorizer_name,\n",
        "            'Model': model_name,\n",
        "            'Accuracy': accuracy,\n",
        "            'F1 Score': f1\n",
        "        })\n",
        "\n",
        "# Ergebnisse anzeigen\n",
        "results_df = pd.DataFrame(results)\n",
        "display(results_df)\n"
      ],
      "metadata": {
        "id": "nzZDq5UQ1Vpf"
      },
      "execution_count": null,
      "outputs": []
    },
    {
      "cell_type": "code",
      "execution_count": null,
      "metadata": {
        "id": "ylclNKgf1wQQ"
      },
      "outputs": [],
      "source": [
        "!pip install lime shap"
      ]
    },
    {
      "cell_type": "code",
      "execution_count": null,
      "metadata": {
        "id": "FGCNseIRviTi"
      },
      "outputs": [],
      "source": [
        "#implementierung von LIME, Sample Space des Countvectorizer nicht limitiert\n",
        "from sklearn.svm import SVC\n",
        "from lime import lime_text\n",
        "from lime.lime_text import LimeTextExplainer\n",
        "from sklearn.feature_extraction.text import CountVectorizer\n",
        "from sklearn.model_selection import train_test_split\n",
        "\n",
        "\n",
        "# Vectorize using CountVectorizer\n",
        "count_vectorizer = CountVectorizer()\n",
        "X_count = count_vectorizer.fit_transform(df_preprocessed['tweet_text'])\n",
        "y = df_preprocessed['cyberbullying_type']\n",
        "\n",
        "# Split the data\n",
        "X_train_count, X_test_count, y_train, y_test = train_test_split(X_count, y, test_size=0.2, random_state=42)\n",
        "\n",
        "# Create and train the SVC model\n",
        "svc = SVC(probability=True)\n",
        "svc.fit(X_train_count, y_train)\n",
        "\n",
        "# Custom prediction function for LIME\n",
        "def custom_predict(texts):\n",
        "    transformed_data = count_vectorizer.transform(texts)\n",
        "    return svc.predict_proba(transformed_data)\n",
        "\n",
        "# LIME\n",
        "explainer = LimeTextExplainer(class_names=y.unique())\n",
        "\n",
        "# 10 Instanzen aus dem gesamten Datensatz; mindestens eine pro Kategorie\n",
        "sample_instances = []\n",
        "for category in y.unique():\n",
        "    sample = df_preprocessed[df_preprocessed['cyberbullying_type'] == category].sample(1)\n",
        "    sample_instances.append(sample['tweet_text'].values[0])\n",
        "\n",
        "# If we have fewer than 10 categories, fill the rest with random samples\n",
        "while len(sample_instances) < 10:\n",
        "    sample = df_preprocessed.sample(1)\n",
        "    sample_instances.append(sample['tweet_text'].values[0])\n",
        "\n",
        "\n"
      ]
    },
    {
      "cell_type": "code",
      "execution_count": null,
      "metadata": {
        "id": "4snz5aj-L5d3"
      },
      "outputs": [],
      "source": [
        "y = df_preprocessed['cyberbullying_type']\n",
        "# 10 Instanzen aus dem gesamten Datensatz; mindestens eine pro Kategorie\n",
        "sample_instances = []\n",
        "for category in y.unique():\n",
        "    sample = df_preprocessed[df_preprocessed['cyberbullying_type'] == category].sample(1)\n",
        "    sample_instances.append(sample['tweet_text'].values[0])\n",
        "\n",
        "# If we have fewer than 10 categories, fill the rest with random samples\n",
        "while len(sample_instances) < 10:\n",
        "    sample = df_preprocessed.sample(1)\n",
        "    sample_instances.append(sample['tweet_text'].values[0])"
      ]
    },
    {
      "cell_type": "code",
      "execution_count": null,
      "metadata": {
        "id": "RaJEwjUk0HsY"
      },
      "outputs": [],
      "source": [
        "from sklearn.metrics import accuracy_score\n",
        "\n",
        "\n",
        "# Predict the classes for the test data using the trained SVC\n",
        "y_pred = svc.predict(X_test_count)\n",
        "\n",
        "# Calculate and print the accuracy\n",
        "accuracy = accuracy_score(y_test, y_pred)\n",
        "print(f\"Accuracy of the SVC classifier: {accuracy:.4f}\")\n"
      ]
    },
    {
      "cell_type": "code",
      "execution_count": null,
      "metadata": {
        "id": "l3nlbdCiwtKJ"
      },
      "outputs": [],
      "source": [
        " # Generate LIME explanations\n",
        "lime_explanations = []\n",
        "for instance in sample_instances:\n",
        "    # Generate explanations for all classes to ensure you cover the class with highest LIME predicted probability\n",
        "    exp = explainer.explain_instance(instance, custom_predict, num_features=15, top_labels=len(explainer.class_names))\n",
        "    lime_explanations.append(exp)\n"
      ]
    },
    {
      "cell_type": "code",
      "execution_count": null,
      "metadata": {
        "id": "z0sgKBxSqlFz"
      },
      "outputs": [],
      "source": [
        "# Display LIME explanations for all instances in sample_instances\n",
        "for i, instance in enumerate(sample_instances):\n",
        "    exp = lime_explanations[i]\n",
        "\n",
        "    # Predict the class using the SVC classifier for the instance\n",
        "    predicted_class = svc.predict(count_vectorizer.transform([instance]))[0]\n",
        "\n",
        "    # Fetch the actual label (ground truth) from the dataframe\n",
        "    actual_label = df_preprocessed[df_preprocessed['tweet_text'] == instance]['cyberbullying_type'].values[0]\n",
        "\n",
        "    # Get the class with the highest LIME predicted probability\n",
        "    lime_probs = exp.predict_proba\n",
        "    top_class_index = lime_probs.argmax()\n",
        "    top_class = explainer.class_names[top_class_index]\n",
        "\n",
        "    # Display the information\n",
        "    print(f\"Instance {i+1}:\")\n",
        "    print(\"Original Text:\", instance)\n",
        "    print(\"Predicted Class by SVC:\", predicted_class)\n",
        "    print(\"Actual Label:\", actual_label)\n",
        "    print(\"Class with Highest LIME Predicted Probability:\", top_class)\n",
        "    print(\"\\nLIME Explanation for Class:\", top_class)\n",
        "\n",
        "    # Display the LIME explanation matching the class with the highest LIME predicted probability\n",
        "    exp.show_in_notebook(labels=(top_class_index,), text=True)\n",
        "    print(\"\\n\" + \"=\"*50 + \"\\n\")\n",
        "\n"
      ]
    },
    {
      "cell_type": "code",
      "execution_count": null,
      "metadata": {
        "id": "uZQq4sY6A0xB"
      },
      "outputs": [],
      "source": [
        "# alternative Implementierung mit max. 4000 Features im Countvectorizer, um die Ausführungszeit von SHAP zu verringern\n",
        "from sklearn.svm import SVC\n",
        "from lime import lime_text\n",
        "from lime.lime_text import LimeTextExplainer\n",
        "from sklearn.feature_extraction.text import CountVectorizer\n",
        "from sklearn.model_selection import train_test_split\n",
        "# Create another CountVectorizer with limited features\n",
        "limited_count_vectorizer = CountVectorizer(max_features=4000)\n",
        "X_count_limited = limited_count_vectorizer.fit_transform(df_preprocessed['tweet_text'])\n",
        "y_count_limited = df_preprocessed['cyberbullying_type']"
      ]
    },
    {
      "cell_type": "code",
      "execution_count": null,
      "metadata": {
        "id": "fXcBldIUA7wm"
      },
      "outputs": [],
      "source": [
        "# Split the data with limited features\n",
        "X_train_count_limited, X_test_count_limited, y_train_limited, y_test_limited = train_test_split(X_count_limited, y_count_limited, test_size=0.2, random_state=42)\n",
        "\n",
        "# Create and train another SVC model on the limited feature set\n",
        "svc_limited = SVC(probability=True)\n",
        "svc_limited.fit(X_train_count_limited, y_train_limited)\n"
      ]
    },
    {
      "cell_type": "code",
      "execution_count": null,
      "metadata": {
        "id": "n9SDU-6rBShC"
      },
      "outputs": [],
      "source": [
        "from sklearn.metrics import accuracy_score\n",
        "# Predict on test data\n",
        "y_pred_limited = svc_limited.predict(X_test_count_limited)\n",
        "\n",
        "# Check accuracy\n",
        "accuracy = accuracy_score(y_test_limited, y_pred_limited)\n",
        "print(f\"Accuracy with limited features: {accuracy:.2f}\")\n"
      ]
    },
    {
      "cell_type": "code",
      "execution_count": null,
      "metadata": {
        "id": "wLfzBTPYRia2"
      },
      "outputs": [],
      "source": [
        "# Using the previously initialized limited_count_vectorizer and svc_limited\n",
        "\n",
        "# Custom prediction function for LIME with limited features\n",
        "def custom_predict_limited(texts):\n",
        "    transformed_data = limited_count_vectorizer.transform(texts)\n",
        "    return svc_limited.predict_proba(transformed_data)\n",
        "\n",
        "# LIME for limited features\n",
        "explainer_limited = LimeTextExplainer(class_names=y_count_limited.unique())\n",
        "\n",
        "# Generate LIME explanations using the same sample_instances for the limited features\n",
        "lime_explanations_limited = []\n",
        "for instance in sample_instances:  # Using the same sample_instances\n",
        "    exp = explainer_limited.explain_instance(instance, custom_predict_limited, num_features=15, top_labels=len(explainer_limited.class_names))\n",
        "    lime_explanations_limited.append(exp)\n",
        "\n",
        "# Display LIME explanations for all instances in sample_instances\n",
        "for i, instance in enumerate(sample_instances):  # Again, using the same sample_instances\n",
        "    exp = lime_explanations_limited[i]\n",
        "\n",
        "    # Predict the class using the SVC classifier with limited features for the instance\n",
        "    predicted_class = svc_limited.predict(limited_count_vectorizer.transform([instance]))[0]\n",
        "\n",
        "    # Fetch the actual label (ground truth) from the dataframe\n",
        "    actual_label = df_preprocessed[df_preprocessed['tweet_text'] == instance]['cyberbullying_type'].values[0]\n",
        "\n",
        "    # Get the class with the highest LIME predicted probability\n",
        "    lime_probs = exp.predict_proba\n",
        "    top_class_index = lime_probs.argmax()\n",
        "    top_class = explainer_limited.class_names[top_class_index]\n",
        "\n",
        "    # Display the information\n",
        "    print(f\"Instance {i+1}:\")\n",
        "    print(\"Original Text:\", instance)\n",
        "    print(\"Predicted Class by SVC with limited features:\", predicted_class)\n",
        "    print(\"Actual Label:\", actual_label)\n",
        "    print(\"Class with Highest LIME Predicted Probability:\", top_class)\n",
        "    print(\"\\nLIME Explanation for Class:\", top_class)\n",
        "\n",
        "    # Display the LIME explanation matching the class with the highest LIME predicted probability\n",
        "    exp.show_in_notebook(labels=(top_class_index,), text=True)\n",
        "    print(\"\\n\" + \"=\"*50 + \"\\n\")\n"
      ]
    },
    {
      "cell_type": "code",
      "source": [
        "# Custom prediction function for LIME with limited features\n",
        "def custom_predict_limited(texts):\n",
        "    transformed_data = limited_count_vectorizer.transform(texts)\n",
        "    return svc_limited.predict_proba(transformed_data)"
      ],
      "metadata": {
        "id": "4TP6wmF7umyl"
      },
      "execution_count": null,
      "outputs": []
    },
    {
      "cell_type": "code",
      "execution_count": null,
      "metadata": {
        "id": "0yaXVTgvjvv1"
      },
      "outputs": [],
      "source": [
        "print(\"Sample Instances:\")\n",
        "for idx, instance in enumerate(sample_instances):\n",
        "    print(f\"Instance {idx + 1}:\\n{instance}\\n\" + \"=\"*50)\n"
      ]
    },
    {
      "cell_type": "code",
      "execution_count": null,
      "metadata": {
        "id": "Bg4KWnDZqFqL"
      },
      "outputs": [],
      "source": [
        "from sklearn.metrics import accuracy_score\n",
        "\n",
        "# Predict on the test set\n",
        "y_pred = svc_limited.predict(X_test_count_limited)\n",
        "\n",
        "# Calculate accuracy\n",
        "accuracy = accuracy_score(y_test_limited, y_pred)\n",
        "print(f\"Accuracy of the SVC with limited features: {accuracy:.2f}\")\n"
      ]
    },
    {
      "cell_type": "code",
      "execution_count": null,
      "metadata": {
        "id": "lMVsY1oSUTJb"
      },
      "outputs": [],
      "source": [
        "import shap\n",
        "import signal\n",
        "\n",
        "# Function to handle the alarm timeout\n",
        "def handler(signum, frame):\n",
        "    raise TimeoutError(\"SHAP computation took too long!\")\n",
        "\n",
        "# Set the signal function handler\n",
        "signal.signal(signal.SIGALRM, handler)\n",
        "\n",
        "# Set an alarm for 10 minutes (600 seconds)\n",
        "signal.alarm(2000)  # 10 minutes * 60 seconds/minute\n",
        "\n",
        "try:\n",
        "    # Initialize the SHAP explainer\n",
        "    explainer_shap = shap.KernelExplainer(svc_limited.predict_proba, shap.sample(X_train_count_limited, 20))\n",
        "\n",
        "    # Select the fifth instance\n",
        "    selected_instance = [sample_instances[4]]\n",
        "\n",
        "    # Get SHAP values for the selected instance\n",
        "    shap_values = explainer_shap.shap_values(limited_count_vectorizer.transform(selected_instance))\n",
        "\n",
        "    # Display SHAP force plot for the fifth instance\n",
        "    predicted_class = svc_limited.predict(limited_count_vectorizer.transform(selected_instance))[0]\n",
        "    actual_label = df_preprocessed[df_preprocessed['tweet_text'] == selected_instance[0]]['cyberbullying_type'].values[0]\n",
        "\n",
        "    print(\"Instance 5:\")\n",
        "    print(\"Original Text:\", selected_instance[0])\n",
        "    print(\"Predicted Class by SVC with limited features:\", predicted_class)\n",
        "    print(\"Actual Label:\", actual_label)\n",
        "\n",
        "    # Display the SHAP force plot\n",
        "    shap.force_plot(explainer_shap.expected_value[1], shap_values[1][0], feature_names=limited_count_vectorizer.get_feature_names_out(), matplotlib=True)\n",
        "\n",
        "except TimeoutError:\n",
        "    print(\"Computation took too long and was terminated.\")\n",
        "\n",
        "# Cancel the alarm\n",
        "signal.alarm(0)\n",
        "\n"
      ]
    },
    {
      "cell_type": "code",
      "execution_count": null,
      "metadata": {
        "id": "rwQBXTJdt8Eq"
      },
      "outputs": [],
      "source": [
        "# training eines neuen SVC um overfitting zu verhindern, dann erneut SHAP\n",
        "from sklearn.metrics import accuracy_score\n",
        "\n",
        "# Adjusted SVC with regularization and linear kernel\n",
        "svc_adjusted = SVC(C=0.5, kernel='linear', probability=True)\n",
        "svc_adjusted.fit(X_train_count_limited, y_train_limited)\n",
        "\n",
        "# Checking accuracy on test set\n",
        "y_pred = svc_adjusted.predict(X_test_count_limited)\n",
        "print(\"Adjusted SVC Accuracy:\", accuracy_score(y_test_limited, y_pred))\n",
        "\n",
        "# Compute SHAP values for instance 5\n",
        "import shap\n",
        "\n",
        "# Function to handle timeout\n",
        "def handler(signum, frame):\n",
        "    raise TimeoutError(\"SHAP computation took too long!\")\n",
        "\n",
        "signal.signal(signal.SIGALRM, handler)\n",
        "signal.alarm(600)  # 10 minutes\n",
        "\n",
        "try:\n",
        "    explainer_shap_adjusted = shap.KernelExplainer(svc_adjusted.predict_proba, shap.sample(X_train_count_limited, 40))\n",
        "    shap_values_adjusted = explainer_shap_adjusted.shap_values(limited_count_vectorizer.transform([sample_instances[4]]))\n",
        "    shap.force_plot(explainer_shap_adjusted.expected_value[1], shap_values_adjusted[1][0], feature_names=limited_count_vectorizer.get_feature_names_out(), matplotlib=True)\n",
        "except TimeoutError:\n",
        "    print(\"Computation took too long and was terminated.\")\n",
        "\n",
        "signal.alarm(0)  # Cancel the alarm\n"
      ]
    },
    {
      "cell_type": "code",
      "execution_count": null,
      "metadata": {
        "id": "tlDqSc7MkqQz"
      },
      "outputs": [],
      "source": [
        "#Vergleiche Ausführungszeit von LIME und SHAP exemplarisch für Instance 5\n",
        "import time\n",
        "import pandas as pd\n",
        "\n",
        "# Instances to focus on\n",
        "focus_instances = [4, 7]  # Indices for 5th and 8th instances\n",
        "\n",
        "# Lists to store execution times\n",
        "lime_times = []\n",
        "shap_times = []\n",
        "\n",
        "# Measure LIME execution time for instances 5 and 8\n",
        "for idx in focus_instances:\n",
        "    start_time = time.time()\n",
        "\n",
        "    instance = sample_instances[idx]\n",
        "    exp = explainer_limited.explain_instance(instance, custom_predict_limited, num_features=15, top_labels=len(explainer_limited.class_names))\n",
        "\n",
        "    end_time = time.time()\n",
        "    lime_times.append(end_time - start_time)\n",
        "\n",
        "# Measure SHAP execution time for instances 5 and 8\n",
        "for idx in focus_instances:\n",
        "    start_time = time.time()\n",
        "\n",
        "    instance = [sample_instances[idx]]\n",
        "    shap_values = explainer_shap.shap_values(limited_count_vectorizer.transform(instance))\n",
        "\n",
        "    end_time = time.time()\n",
        "    shap_times.append(end_time - start_time)\n",
        "\n",
        "# Create a table to compare execution times visually\n",
        "df = pd.DataFrame({\n",
        "    'Instance': ['5', '8'],\n",
        "    'LIME Execution Time (s)': lime_times,\n",
        "    'SHAP Execution Time (s)': shap_times\n",
        "})\n",
        "\n",
        "print(df)\n"
      ]
    },
    {
      "cell_type": "code",
      "execution_count": null,
      "metadata": {
        "id": "Mby6M4Cn16ke"
      },
      "outputs": [],
      "source": [
        "# similarity: wie verhalten sich Instanzen der gleichen Klasse?\n",
        "# LIME for 'age' category\n",
        "explainer_religion = LimeTextExplainer(class_names=y.unique())\n",
        "\n",
        "# 5 instances for the 'religion' category\n",
        "sample_instances_religion = df_preprocessed[df_preprocessed['cyberbullying_type'] == 'religion'].sample(5)['tweet_text'].tolist()\n",
        "\n",
        "# Apply LIME to these instances\n",
        "lime_explanations_religion = []\n",
        "for instance in sample_instances_religion:\n",
        "    exp = explainer_religion.explain_instance(instance, custom_predict_limited, num_features=15, top_labels=len(explainer_religion.class_names))\n",
        "    lime_explanations_religion.append(exp)\n",
        "\n",
        "# Display LIME explanations for these instances\n",
        "for i, instance in enumerate(sample_instances_religion):\n",
        "    exp = lime_explanations_religion[i]\n",
        "\n",
        "    # Predict the class using the SVC classifier for the instance\n",
        "    predicted_class = svc.predict(count_vectorizer.transform([instance]))[0]\n",
        "    actual_label = df_preprocessed[df_preprocessed['tweet_text'] == instance]['cyberbullying_type'].values[0]\n",
        "\n",
        "    # Get the class with the highest LIME predicted probability\n",
        "    lime_probs = exp.predict_proba\n",
        "    top_class_index = lime_probs.argmax()\n",
        "    top_class = explainer_religion.class_names[top_class_index]\n",
        "\n",
        "    # Display the information\n",
        "    print(f\"Instance {i+1}:\")\n",
        "    print(\"Original Text:\", instance)\n",
        "    print(\"Predicted Class by SVC:\", predicted_class)\n",
        "    print(\"Actual Label:\", actual_label)\n",
        "    print(\"Class with Highest LIME Predicted Probability:\", top_class)\n",
        "    print(\"\\nLIME Explanation for Class:\", top_class)\n",
        "\n",
        "    # Display the LIME explanation matching the class with the highest LIME predicted probability\n",
        "    exp.show_in_notebook(labels=(top_class_index,), text=True)\n",
        "    print(\"\\n\" + \"=\"*50 + \"\\n\")\n"
      ]
    },
    {
      "cell_type": "code",
      "execution_count": null,
      "metadata": {
        "id": "AxwHC7jB2OlX"
      },
      "outputs": [],
      "source": [
        "#Aequivalent für SHAP\n",
        "import shap\n",
        "import signal\n",
        "\n",
        "# Set up timeout function to handle long-running SHAP computations\n",
        "def handler(signum, frame):\n",
        "    raise TimeoutError(\"SHAP computation took too long!\")\n",
        "signal.signal(signal.SIGALRM, handler)\n",
        "\n",
        "# Initialize SHAP explainer with the model using limited features\n",
        "explainer_shap_age = shap.KernelExplainer(svc_limited.predict_proba, shap.sample(X_train_count_limited, 100))\n",
        "\n",
        "for i, instance in enumerate(sample_instances_age):\n",
        "    # Set an alarm for 10 minutes\n",
        "    signal.alarm(600)\n",
        "\n",
        "    try:\n",
        "        # Get SHAP values for the instance\n",
        "        shap_values = explainer_shap_age.shap_values(limited_count_vectorizer.transform([instance]))\n",
        "\n",
        "        # Display SHAP force plot for the instance\n",
        "        predicted_class = svc_limited.predict(limited_count_vectorizer.transform([instance]))[0]\n",
        "        actual_label = 'age'  # Since we're only considering the 'age' category\n",
        "\n",
        "        print(f\"Instance {i+1}:\")\n",
        "        print(\"Original Text:\", instance)\n",
        "        print(\"Predicted Class by SVC with limited features:\", predicted_class)\n",
        "        print(\"Actual Label:\", actual_label)\n",
        "\n",
        "        # Display the SHAP force plot\n",
        "        shap.force_plot(explainer_shap_age.expected_value[1], shap_values[1][0], feature_names=limited_count_vectorizer.get_feature_names_out(), matplotlib=True)\n",
        "        print(\"\\n\" + \"=\"*50 + \"\\n\")\n",
        "\n",
        "    except TimeoutError:\n",
        "        print(f\"Computation for instance {i+1} took too long and was terminated.\")\n",
        "        print(\"\\n\" + \"=\"*50 + \"\\n\")\n",
        "\n",
        "    # Cancel the alarm\n",
        "    signal.alarm(0)\n"
      ]
    },
    {
      "cell_type": "code",
      "execution_count": null,
      "metadata": {
        "id": "AXR0RyJo641k"
      },
      "outputs": [],
      "source": [
        "# 5 instances from the category \"religion\"\n",
        "sample_instances_religion = df_preprocessed[df_preprocessed['cyberbullying_type'] == 'religion'].sample(5)['tweet_text'].tolist()\n",
        "\n",
        "# Generate LIME explanations using the sample_instances_religion\n",
        "lime_explanations_religion = []\n",
        "for instance in sample_instances_religion:\n",
        "    exp = explainer_limited.explain_instance(instance, custom_predict_limited, num_features=15, top_labels=len(explainer_limited.class_names))\n",
        "    lime_explanations_religion.append(exp)\n",
        "\n",
        "# To store the top 5 features for each instance\n",
        "top_features_list_lime_religion = []\n",
        "\n",
        "for i, exp in enumerate(lime_explanations_religion):\n",
        "    # Extract the top 5 important features for the instance\n",
        "    # Get the tuple list for the class with the highest predicted probability\n",
        "    top_class_index = exp.predict_proba.argmax()\n",
        "    feature_tuples = exp.as_list(label=top_class_index)\n",
        "\n",
        "    # Extract only the feature names\n",
        "    top_features = [feature[0] for feature in feature_tuples[:5]]\n",
        "    top_features_list_lime_religion.append(top_features)\n",
        "\n",
        "    # Display the LIME explanation for the instance\n",
        "    print(f\"Instance {i+1}:\")\n",
        "    exp.show_in_notebook(labels=(top_class_index,), text=True)\n",
        "    print(\"\\n\" + \"=\"*50 + \"\\n\")\n",
        "\n",
        "# Convert the list of top features into a pandas DataFrame for display\n",
        "df_top_features_lime_religion = pd.DataFrame(top_features_list_lime_religion, columns=[f\"Top Feature {i+1}\" for i in range(5)])\n",
        "df_top_features_lime_religion.index = [f\"Instance {i+1}\" for i in range(len(sample_instances_religion))]\n",
        "display(df_top_features_lime_religion)\n"
      ]
    },
    {
      "cell_type": "code",
      "execution_count": null,
      "metadata": {
        "id": "4FD3xv2D8rxU"
      },
      "outputs": [],
      "source": [
        "selected_instance_religion = sample_instances_religion[0]\n"
      ]
    },
    {
      "cell_type": "code",
      "execution_count": null,
      "metadata": {
        "id": "VUqBOdDT8yV-"
      },
      "outputs": [],
      "source": [
        "import shap\n",
        "\n",
        "# Initialize a new SHAP KernelExplainer for the svc_limited model\n",
        "background_data = shap.sample(X_train_count_limited, 20)\n",
        "explainer_shap_new = shap.KernelExplainer(svc_limited.predict_proba, background_data)\n",
        "\n",
        "# Get the first instance from sample_instances_religion\n",
        "first_instance_religion = [sample_instances_religion[0]]\n",
        "\n",
        "# Get SHAP values for the first instance\n",
        "shap_values_first_instance = explainer_shap_new.shap_values(limited_count_vectorizer.transform(first_instance_religion))\n",
        "\n",
        "# Visualize SHAP values for the first instance using a summary plot\n",
        "shap.summary_plot(shap_values_first_instance, limited_count_vectorizer.transform(first_instance_religion), feature_names=limited_count_vectorizer.get_feature_names_out())\n",
        "\n"
      ]
    },
    {
      "cell_type": "code",
      "source": [
        "# SHAP für einzelne Instanzen\n",
        "second_instance_religion = [sample_instances_religion[1]]\n",
        "\n",
        "# Get SHAP values for the first instance\n",
        "shap_values_second_instance = explainer_shap_new.shap_values(limited_count_vectorizer.transform(second_instance_religion))\n",
        "\n",
        "# Visualize SHAP values for the first instance using a summary plot\n",
        "shap.summary_plot(shap_values_second_instance, limited_count_vectorizer.transform(second_instance_religion), feature_names=limited_count_vectorizer.get_feature_names_out())"
      ],
      "metadata": {
        "id": "rt9NZ7TgzpTa"
      },
      "execution_count": null,
      "outputs": []
    },
    {
      "cell_type": "code",
      "source": [
        "# SHAP für einzelne Instanzen\n",
        "third_instance_religion = [sample_instances_religion[2]]\n",
        "\n",
        "# Get SHAP values for the first instance\n",
        "shap_values_third_instance = explainer_shap_new.shap_values(limited_count_vectorizer.transform(third_instance_religion))\n",
        "\n",
        "# Visualize SHAP values for the first instance using a summary plot\n",
        "shap.summary_plot(shap_values_third_instance, limited_count_vectorizer.transform(third_instance_religion), feature_names=limited_count_vectorizer.get_feature_names_out())"
      ],
      "metadata": {
        "id": "L_MN3Lco2q2L"
      },
      "execution_count": null,
      "outputs": []
    },
    {
      "cell_type": "code",
      "source": [
        "# SHAP für einzelne Instanzen\n",
        "fourth_instance_religion = [sample_instances_religion[3]]\n",
        "\n",
        "# Get SHAP values for the first instance\n",
        "shap_values_fourth_instance = explainer_shap_new.shap_values(limited_count_vectorizer.transform(fourth_instance_religion))\n",
        "\n",
        "# Visualize SHAP values for the first instance using a summary plot\n",
        "shap.summary_plot(shap_values_fourth_instance, limited_count_vectorizer.transform(fourth_instance_religion), feature_names=limited_count_vectorizer.get_feature_names_out())"
      ],
      "metadata": {
        "id": "3lL3_m-R23o-"
      },
      "execution_count": null,
      "outputs": []
    },
    {
      "cell_type": "code",
      "source": [
        "# SHAP für einzelne Instanzen\n",
        "fifth_instance_religion = [sample_instances_religion[4]]\n",
        "\n",
        "# Get SHAP values for the first instance\n",
        "shap_values_fifth_instance = explainer_shap_new.shap_values(limited_count_vectorizer.transform(fifth_instance_religion))\n",
        "\n",
        "# Visualize SHAP values for the first instance using a summary plot\n",
        "shap.summary_plot(shap_values_fifth_instance, limited_count_vectorizer.transform(fifth_instance_religion), feature_names=limited_count_vectorizer.get_feature_names_out())"
      ],
      "metadata": {
        "id": "CdaqsIG63rWG"
      },
      "execution_count": null,
      "outputs": []
    },
    {
      "cell_type": "code",
      "source": [
        "\n",
        "# List to store the top 5 features for each instance\n",
        "top_features_list_shap_religion = []\n",
        "\n",
        "# List of all SHAP values for instances 1-5\n",
        "shap_values_all_instances = [\n",
        "    shap_values_first_instance,\n",
        "    shap_values_second_instance,\n",
        "    shap_values_third_instance,\n",
        "    shap_values_fourth_instance,\n",
        "    shap_values_fifth_instance,\n",
        "]\n",
        "\n",
        "for instance_shap_values in shap_values_all_instances:\n",
        "    # Convert SHAP values to DataFrame for easy manipulation\n",
        "    shap_df = pd.DataFrame(instance_shap_values[0], columns=limited_count_vectorizer.get_feature_names_out())\n",
        "\n",
        "    # Extract the top 5 features with highest absolute SHAP values\n",
        "    sorted_shap = shap_df.T.abs().sort_values(by=0, ascending=False)\n",
        "    top_features = sorted_shap.index[:5].tolist()\n",
        "    top_features_list_shap_religion.append(top_features)\n",
        "\n",
        "# Convert the list of top features into a pandas DataFrame for display\n",
        "df_top_features_shap_religion = pd.DataFrame(top_features_list_shap_religion, columns=[f\"Top Feature {i+1}\" for i in range(5)])\n",
        "df_top_features_shap_religion.index = [f\"Instance {i+1}\" for i in range(len(sample_instances_religion))]\n",
        "display(df_top_features_shap_religion)\n"
      ],
      "metadata": {
        "id": "RoPGGckA4vi3"
      },
      "execution_count": null,
      "outputs": []
    },
    {
      "cell_type": "code",
      "source": [
        "# Vergleich einzelner Instanzen mit Feature pertubation: LIME Explanation der Instanz 15988\n",
        "# Extract the instance at index 15988 from the original dataframe\n",
        "instance_15988 = df_preprocessed.loc[15988, 'tweet_text']\n",
        "\n",
        "# Generate LIME explanation for instance_15988\n",
        "exp_15988 = explainer_limited.explain_instance(instance_15988, custom_predict_limited, num_features=15, top_labels=len(explainer_limited.class_names))\n",
        "\n",
        "# Extract and display the top 5 important features for instance_15988\n",
        "top_class_index_15988 = exp_15988.predict_proba.argmax()\n",
        "feature_tuples_15988 = exp_15988.as_list(label=top_class_index_15988)\n",
        "\n",
        "# Extract only the feature names\n",
        "top_features_15988 = [feature[0] for feature in feature_tuples_15988[:5]]\n",
        "\n",
        "# Display the LIME explanation for instance_15988\n",
        "print(f\"Instance at index 15988:\")\n",
        "print(\"Original Text:\", instance_15988)\n",
        "exp_15988.show_in_notebook(labels=(top_class_index_15988,), text=True)\n",
        "print(\"\\nTop 5 Most Important Features:\")\n",
        "print(top_features_15988)\n",
        "print(\"\\n\" + \"=\"*50 + \"\\n\")\n"
      ],
      "metadata": {
        "id": "2wxHJgV_wSut"
      },
      "execution_count": null,
      "outputs": []
    },
    {
      "cell_type": "code",
      "source": [
        "import shap\n",
        "\n",
        "# Filter instances from the category \"religion\"\n",
        "religion_instances = df_preprocessed[df_preprocessed['cyberbullying_type'] == 'religion']\n",
        "\n",
        "# Use the instances from the \"religion\" category as background samples for the SHAP explainer\n",
        "background_samples = limited_count_vectorizer.transform(religion_instances['tweet_text'])\n",
        "\n",
        "# Initialize the SHAP explainer using the religion instances as background\n",
        "explainer_shap = shap.KernelExplainer(svc_limited.predict_proba, background_samples)\n",
        "\n",
        "# Extract the instance at index 15988 from the dataframe\n",
        "instance_15988 = df_preprocessed.loc[15988, 'tweet_text']\n",
        "\n",
        "# Get SHAP values for instance_15988\n",
        "shap_values_15988 = explainer_shap.shap_values(limited_count_vectorizer.transform([instance_15988]))\n",
        "\n",
        "# Determine the class with the highest predicted probability for the instance\n",
        "class_index = svc_limited.predict(limited_count_vectorizer.transform([instance_15988]))[0]\n",
        "\n",
        "# Display the waterfall plot for instance_15988 for the specific class\n",
        "shap.waterfall_plot(explainer_shap.expected_value[class_index], shap_values_15988[class_index][0], feature_names=limited_count_vectorizer.get_feature_names_out())\n"
      ],
      "metadata": {
        "id": "io5E5-niyzXn"
      },
      "execution_count": null,
      "outputs": []
    },
    {
      "cell_type": "code",
      "execution_count": null,
      "metadata": {
        "id": "5Ps-o17Zz7Aw"
      },
      "outputs": [],
      "source": [
        "results_tfidf"
      ]
    },
    {
      "cell_type": "code",
      "execution_count": null,
      "metadata": {
        "id": "x64ntximJZu0"
      },
      "outputs": [],
      "source": []
    }
  ],
  "metadata": {
    "accelerator": "GPU",
    "colab": {
      "machine_shape": "hm",
      "provenance": [],
      "authorship_tag": "ABX9TyOf4yFQjZQqxFMm1UCEzxPo",
      "include_colab_link": true
    },
    "kernelspec": {
      "display_name": "Python 3",
      "name": "python3"
    },
    "language_info": {
      "name": "python"
    }
  },
  "nbformat": 4,
  "nbformat_minor": 0
}